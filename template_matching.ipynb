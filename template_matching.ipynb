{
 "cells": [
  {
   "cell_type": "markdown",
   "source": [
    "# Template Matching - OpenCV"
   ],
   "metadata": {}
  },
  {
   "cell_type": "code",
   "execution_count": 45,
   "source": [
    "import cv2\n",
    "import numpy as np"
   ],
   "outputs": [],
   "metadata": {
    "scrolled": true
   }
  },
  {
   "cell_type": "markdown",
   "source": [
    "## Load our images\n",
    "<ul><li>Our main image from our camera feed game whatever</li><li>\n",
    "    Image we are searching for inside the main image</li></ul>"
   ],
   "metadata": {}
  },
  {
   "cell_type": "code",
   "execution_count": 46,
   "source": [
    "average_images_combined = cv2.imread('./assets/avg_normal_dice/average_images_combined.jpg', cv2.IMREAD_UNCHANGED)\n",
    "input_img = cv2.imread('./assets/anomalous_dice/img_17480_cropped.jpg', cv2.IMREAD_UNCHANGED)"
   ],
   "outputs": [],
   "metadata": {}
  },
  {
   "cell_type": "markdown",
   "source": [
    "### Show our Main Image"
   ],
   "metadata": {}
  },
  {
   "cell_type": "code",
   "execution_count": 47,
   "source": [
    "cv2.imshow('combination', average_images_combined)\n",
    "cv2.waitKey()\n",
    "cv2.destroyAllWindows()"
   ],
   "outputs": [],
   "metadata": {}
  },
  {
   "cell_type": "markdown",
   "source": [
    "### Show Search Image "
   ],
   "metadata": {}
  },
  {
   "cell_type": "code",
   "execution_count": 48,
   "source": [
    "cv2.imshow('input', input_img)\n",
    "cv2.waitKey()\n",
    "cv2.destroyAllWindows()"
   ],
   "outputs": [],
   "metadata": {}
  },
  {
   "cell_type": "markdown",
   "source": [
    "## Template Matching\n",
    "<ul>\n",
    "    <li>There are 6 comparison methods</li>\n",
    "    <ul>\n",
    "        <li>TM_CCOEFF</li>\n",
    "        <li>TM_CCOEFF_NORMED</li>\n",
    "        <li>TM_CCORR</li>\n",
    "        <li>TM_CCORR_NORMED</li>\n",
    "        <li>TM_SQDIFF</li>\n",
    "        <li>TM_SQDIFF_NORMED</li>\n",
    "    </ul>\n",
    "    <li><a href=\"https://docs.opencv.org/master/d4/dc6/tutorial_py_template_matching.html\">OpenCV Template Matching Docs</a></li>\n",
    "</ul>"
   ],
   "metadata": {}
  },
  {
   "cell_type": "code",
   "execution_count": 49,
   "source": [
    "# There are 6 comparison methods to choose from:\n",
    "# TM_CCOEFF, TM_CCOEFF_NORMED, TM_CCORR, TM_CCORR_NORMED, TM_SQDIFF, TM_SQDIFF_NORMED\n",
    "# You can see the differences at a glance here:\n",
    "# https://docs.opencv.org/master/d4/dc6/tutorial_py_template_matching.html\n",
    "result = cv2.matchTemplate(average_images_combined, input_img, cv2.TM_CCOEFF_NORMED)"
   ],
   "outputs": [],
   "metadata": {}
  },
  {
   "cell_type": "markdown",
   "source": [
    "### View Result"
   ],
   "metadata": {}
  },
  {
   "cell_type": "code",
   "execution_count": 50,
   "source": [
    "cv2.imshow('Result', result)\n",
    "cv2.waitKey()\n",
    "cv2.destroyAllWindows()"
   ],
   "outputs": [],
   "metadata": {}
  },
  {
   "cell_type": "markdown",
   "source": [
    "### Get Max Result"
   ],
   "metadata": {}
  },
  {
   "cell_type": "code",
   "execution_count": 51,
   "source": [
    "min_val, max_val, min_loc, max_loc = cv2.minMaxLoc(result)"
   ],
   "outputs": [],
   "metadata": {}
  },
  {
   "cell_type": "code",
   "execution_count": 52,
   "source": [
    "max_loc"
   ],
   "outputs": [
    {
     "output_type": "execute_result",
     "data": {
      "text/plain": [
       "(807, 3)"
      ]
     },
     "metadata": {},
     "execution_count": 52
    }
   ],
   "metadata": {}
  },
  {
   "cell_type": "code",
   "execution_count": 53,
   "source": [
    "max_val"
   ],
   "outputs": [
    {
     "output_type": "execute_result",
     "data": {
      "text/plain": [
       "0.9070143103599548"
      ]
     },
     "metadata": {},
     "execution_count": 53
    }
   ],
   "metadata": {}
  },
  {
   "cell_type": "markdown",
   "source": [
    "### Paint Square on Main Image"
   ],
   "metadata": {}
  },
  {
   "cell_type": "code",
   "execution_count": 54,
   "source": [
    "w = input_img.shape[1]\n",
    "h = input_img.shape[0]"
   ],
   "outputs": [],
   "metadata": {}
  },
  {
   "cell_type": "code",
   "execution_count": 55,
   "source": [
    "cv2.rectangle(average_images_combined, max_loc, (max_loc[0] + w, max_loc[1] + h), (0,255,255), 2)"
   ],
   "outputs": [
    {
     "output_type": "execute_result",
     "data": {
      "text/plain": [
       "array([[254, 255, 255, ..., 255, 255, 255],\n",
       "       [255, 249, 255, ..., 255, 255, 255],\n",
       "       [255, 255, 250, ..., 254, 255, 255],\n",
       "       ...,\n",
       "       [255, 255, 253, ..., 254, 255, 255],\n",
       "       [254, 253, 252, ..., 255, 255, 255],\n",
       "       [250, 255, 254, ..., 252, 255, 255]], dtype=uint8)"
      ]
     },
     "metadata": {},
     "execution_count": 55
    }
   ],
   "metadata": {}
  },
  {
   "cell_type": "markdown",
   "source": [
    "## Paint Multiple Squares"
   ],
   "metadata": {}
  },
  {
   "cell_type": "code",
   "execution_count": 56,
   "source": [
    "threshold = .80"
   ],
   "outputs": [],
   "metadata": {}
  },
  {
   "cell_type": "code",
   "execution_count": 57,
   "source": [
    "yloc, xloc = np.where(result >= threshold)"
   ],
   "outputs": [],
   "metadata": {}
  },
  {
   "cell_type": "code",
   "execution_count": 58,
   "source": [
    "len(xloc)"
   ],
   "outputs": [
    {
     "output_type": "execute_result",
     "data": {
      "text/plain": [
       "9429"
      ]
     },
     "metadata": {},
     "execution_count": 58
    }
   ],
   "metadata": {}
  },
  {
   "cell_type": "code",
   "execution_count": 59,
   "source": [
    "for (x, y) in zip(xloc, yloc):\n",
    "    cv2.rectangle(average_images_combined, (x, y), (x + w, y + h), (0,255,255), 2)"
   ],
   "outputs": [],
   "metadata": {}
  },
  {
   "cell_type": "code",
   "execution_count": 60,
   "source": [
    "cv2.imshow('averages', average_images_combined)\n",
    "cv2.waitKey()\n",
    "cv2.destroyAllWindows()"
   ],
   "outputs": [],
   "metadata": {}
  },
  {
   "cell_type": "code",
   "execution_count": 61,
   "source": [
    "# What is a rectangle?\n",
    "# x, y, w, h\n",
    "rectangles = []\n",
    "for (x, y) in zip(xloc, yloc):\n",
    "    rectangles.append([int(x), int(y), int(w), int(h)])\n",
    "    rectangles.append([int(x), int(y), int(w), int(h)])"
   ],
   "outputs": [],
   "metadata": {}
  },
  {
   "cell_type": "code",
   "execution_count": 62,
   "source": [
    "len(rectangles)"
   ],
   "outputs": [
    {
     "output_type": "execute_result",
     "data": {
      "text/plain": [
       "18858"
      ]
     },
     "metadata": {},
     "execution_count": 62
    }
   ],
   "metadata": {}
  },
  {
   "cell_type": "code",
   "execution_count": 63,
   "source": [
    "rectangles, weights = cv2.groupRectangles(rectangles, 1, 0.2)"
   ],
   "outputs": [],
   "metadata": {}
  },
  {
   "cell_type": "code",
   "execution_count": 64,
   "source": [
    "rectangles"
   ],
   "outputs": [
    {
     "output_type": "execute_result",
     "data": {
      "text/plain": [
       "array([[673,   3, 128, 128]], dtype=int32)"
      ]
     },
     "metadata": {},
     "execution_count": 64
    }
   ],
   "metadata": {}
  },
  {
   "cell_type": "code",
   "execution_count": 65,
   "source": [
    "len(rectangles)"
   ],
   "outputs": [
    {
     "output_type": "execute_result",
     "data": {
      "text/plain": [
       "1"
      ]
     },
     "metadata": {},
     "execution_count": 65
    }
   ],
   "metadata": {}
  },
  {
   "cell_type": "code",
   "execution_count": null,
   "source": [],
   "outputs": [],
   "metadata": {}
  }
 ],
 "metadata": {
  "interpreter": {
   "hash": "1fe3a3b43a1d7b4ebd6894c35cd2ca7ddca653effa5e428ff84d5c71b7672dfa"
  },
  "kernelspec": {
   "name": "python3",
   "display_name": "Python 3.7.9 64-bit ('env': venv)"
  },
  "language_info": {
   "codemirror_mode": {
    "name": "ipython",
    "version": 3
   },
   "file_extension": ".py",
   "mimetype": "text/x-python",
   "name": "python",
   "nbconvert_exporter": "python",
   "pygments_lexer": "ipython3",
   "version": "3.7.9"
  }
 },
 "nbformat": 4,
 "nbformat_minor": 4
}