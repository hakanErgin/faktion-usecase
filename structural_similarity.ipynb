{
 "cells": [
  {
   "cell_type": "code",
   "execution_count": 1,
   "source": [
    "from skimage.metrics import structural_similarity\n",
    "import cv2\n",
    "import numpy as np"
   ],
   "outputs": [],
   "metadata": {}
  },
  {
   "cell_type": "code",
   "execution_count": 2,
   "source": [
    "before = cv2.imread('./assets/avg_normal_dice/avg_0.jpg')\n",
    "after = cv2.imread('./assets/normal_dice/0/2.jpg')"
   ],
   "outputs": [],
   "metadata": {}
  },
  {
   "cell_type": "code",
   "execution_count": 3,
   "source": [
    "def show_structural_similarity(before, after):\n",
    "    # Convert images to grayscale\n",
    "    before_gray = cv2.cvtColor(before, cv2.COLOR_BGR2GRAY)\n",
    "    after_gray = cv2.cvtColor(after, cv2.COLOR_BGR2GRAY)\n",
    "\n",
    "    # Compute SSIM between two images\n",
    "    (score, diff) = structural_similarity(before_gray, after_gray, full=True)\n",
    "    print(\"Image similarity\", score)\n",
    "\n",
    "    # The diff image contains the actual image differences between the two images\n",
    "    # and is represented as a floating point data type in the range [0,1] \n",
    "    # so we must convert the array to 8-bit unsigned integers in the range\n",
    "    # [0,255] before we can use it with OpenCV\n",
    "    diff = (diff * 255).astype(\"uint8\")\n",
    "\n",
    "    # Threshold the difference image, followed by finding contours to\n",
    "    # obtain the regions of the two input images that differ\n",
    "    thresh = cv2.threshold(diff, 0, 255, cv2.THRESH_BINARY_INV | cv2.THRESH_OTSU)[1]\n",
    "    contours = cv2.findContours(thresh.copy(), cv2.RETR_EXTERNAL, cv2.CHAIN_APPROX_SIMPLE)\n",
    "    contours = contours[0] if len(contours) == 2 else contours[1]\n",
    "\n",
    "    mask = np.zeros(before.shape, dtype='uint8')\n",
    "    filled_after = after.copy()\n",
    "\n",
    "    for c in contours:\n",
    "        area = cv2.contourArea(c)\n",
    "        if area > 40:\n",
    "            x,y,w,h = cv2.boundingRect(c)\n",
    "            cv2.rectangle(before, (x, y), (x + w, y + h), (36,255,12), 2)\n",
    "            cv2.rectangle(after, (x, y), (x + w, y + h), (36,255,12), 2)\n",
    "            cv2.drawContours(mask, [c], 0, (0,255,0), -1)\n",
    "            cv2.drawContours(filled_after, [c], 0, (0,255,0), -1)\n",
    "\n",
    "    [print(x.shape) for x in [before, after, diff, mask, filled_after]]\n",
    "\n",
    "    concatenated = cv2.hconcat([before, after, mask, filled_after])\n",
    "\n",
    "    # cv2.imshow('before', before)\n",
    "    # cv2.imshow('after', after)\n",
    "    cv2.imshow('diff',diff)\n",
    "    # cv2.imshow('mask',mask)\n",
    "    # cv2.imshow('filled after',filled_after)\n",
    "    cv2.imshow('concat',concatenated)\n",
    "    cv2.waitKey()"
   ],
   "outputs": [],
   "metadata": {}
  },
  {
   "cell_type": "code",
   "execution_count": 4,
   "source": [
    "show_structural_similarity(before, after)"
   ],
   "outputs": [
    {
     "output_type": "stream",
     "name": "stdout",
     "text": [
      "Image similarity 0.8532256423700816\n",
      "(128, 128, 3)\n",
      "(128, 128, 3)\n",
      "(128, 128)\n",
      "(128, 128, 3)\n",
      "(128, 128, 3)\n"
     ]
    }
   ],
   "metadata": {}
  }
 ],
 "metadata": {
  "orig_nbformat": 4,
  "language_info": {
   "name": "python",
   "version": "3.7.9",
   "mimetype": "text/x-python",
   "codemirror_mode": {
    "name": "ipython",
    "version": 3
   },
   "pygments_lexer": "ipython3",
   "nbconvert_exporter": "python",
   "file_extension": ".py"
  },
  "kernelspec": {
   "name": "python3",
   "display_name": "Python 3.7.9 64-bit ('env': venv)"
  },
  "interpreter": {
   "hash": "1fe3a3b43a1d7b4ebd6894c35cd2ca7ddca653effa5e428ff84d5c71b7672dfa"
  }
 },
 "nbformat": 4,
 "nbformat_minor": 2
}