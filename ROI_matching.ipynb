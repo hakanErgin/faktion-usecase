{
 "cells": [
  {
   "cell_type": "code",
   "execution_count": 433,
   "source": [
    "import cv2\n",
    "import numpy as np\n",
    "import glob"
   ],
   "outputs": [],
   "metadata": {}
  },
  {
   "cell_type": "code",
   "execution_count": 434,
   "source": [
    "anomalous_images = [cv2.imread(file, 0) for file in glob.glob(\"./assets/anomalous_dice/*.jpg\")]"
   ],
   "outputs": [],
   "metadata": {}
  },
  {
   "cell_type": "code",
   "execution_count": 435,
   "source": [
    "templates = []\n",
    "for idx in range(11):\n",
    "    templates.append(cv2.imread(\"./assets/avg_normal_dice/avg_\"+ str(idx) +\".jpg\", 0))"
   ],
   "outputs": [],
   "metadata": {}
  },
  {
   "cell_type": "code",
   "execution_count": 436,
   "source": [
    "# mask corners with a circle\n",
    "def mask_corners(image):\n",
    "    circle = np.zeros((128, 128), dtype = \"uint8\")\n",
    "    cv2.circle(circle, (64, 64), 60, 255, -1)\n",
    "    masked_image = cv2.bitwise_and(image, circle)\n",
    "    masked_image[masked_image==0] = 255\n",
    "    \n",
    "    # concatenated_images = cv2.hconcat([image, circle, masked_image])\n",
    "    return masked_image"
   ],
   "outputs": [],
   "metadata": {}
  },
  {
   "cell_type": "code",
   "execution_count": 437,
   "source": [
    "# otsu if needed\n",
    "otsu = cv2.THRESH_BINARY | cv2.THRESH_OTSU\n",
    "\n",
    "# apply (hardcoded) thresholding value\n",
    "def apply_thresholding(masked_image, threshold=cv2.THRESH_BINARY):\n",
    "    (T, thresh_image) = cv2.threshold(masked_image, 100 if threshold == cv2.THRESH_BINARY else 0, 255,\n",
    "        threshold)\n",
    "    if not threshold == cv2.THRESH_BINARY:\n",
    "        print(T)\n",
    "    return thresh_image"
   ],
   "outputs": [],
   "metadata": {}
  },
  {
   "cell_type": "code",
   "execution_count": 438,
   "source": [
    "def apply_preprocessing(input):\n",
    "    corners_masked_image = mask_corners(input)\n",
    "    thresholded_image = apply_thresholding(corners_masked_image)\n",
    "    return thresholded_image\n",
    "\n",
    "# thresholded_image, corners_masked_image = apply_preprocessing(input_image)"
   ],
   "outputs": [],
   "metadata": {}
  },
  {
   "cell_type": "code",
   "execution_count": 439,
   "source": [
    "# indexes of black dots or features\n",
    "def get_roi(thresholded_image):\n",
    "    template_roi = np.argwhere(thresholded_image == 0)\n",
    "    return template_roi"
   ],
   "outputs": [],
   "metadata": {}
  },
  {
   "cell_type": "code",
   "execution_count": 440,
   "source": [
    "bw_templates = []\n",
    "for template in templates[-11:]:\n",
    "    thresholded_image = apply_preprocessing(template)\n",
    "    bw_templates.append(apply_thresholding(thresholded_image))\n",
    "    # print(thresholded_image.shape)\n",
    "\n",
    "len(bw_templates)"
   ],
   "outputs": [
    {
     "output_type": "execute_result",
     "data": {
      "text/plain": [
       "11"
      ]
     },
     "metadata": {},
     "execution_count": 440
    }
   ],
   "metadata": {}
  },
  {
   "cell_type": "code",
   "execution_count": 441,
   "source": [
    "bw_anomalous_images = []\n",
    "for anomalous_image in anomalous_images:\n",
    "    thresholded_image = apply_preprocessing(anomalous_image)\n",
    "    bw_anomalous_images.append(apply_thresholding(thresholded_image))\n",
    "    # print(thresholded_image.shape)\n",
    "\n",
    "len(bw_anomalous_images)"
   ],
   "outputs": [
    {
     "output_type": "execute_result",
     "data": {
      "text/plain": [
       "83"
      ]
     },
     "metadata": {},
     "execution_count": 441
    }
   ],
   "metadata": {}
  },
  {
   "cell_type": "code",
   "execution_count": 442,
   "source": [
    "# in order to find the classes\n",
    "def compare_images(bw_templates, bw_anomalous_image):\n",
    "    comparisons = []\n",
    "    comparisons.append(bw_anomalous_image)\n",
    "    for bw_template in bw_templates:\n",
    "        comparisons.append(cv2.subtract(bw_template, bw_anomalous_image))\n",
    "    return comparisons"
   ],
   "outputs": [],
   "metadata": {}
  },
  {
   "cell_type": "code",
   "execution_count": 443,
   "source": [
    "# comparisons = compare_images(bw_templates, bw_anomalous_images[82])\n",
    "comparisons = compare_images(bw_templates, bw_anomalous_images[9])\n",
    "cv2.imshow('',cv2.hconcat(comparisons))\n",
    "# cv2.imshow('', cv2.subtract(anomalous_image, template_0))\n",
    "cv2.waitKey()\n",
    "cv2.destroyAllWindows()"
   ],
   "outputs": [],
   "metadata": {}
  },
  {
   "cell_type": "code",
   "execution_count": null,
   "source": [],
   "outputs": [],
   "metadata": {}
  }
 ],
 "metadata": {
  "orig_nbformat": 4,
  "language_info": {
   "name": "python",
   "version": "3.7.9",
   "mimetype": "text/x-python",
   "codemirror_mode": {
    "name": "ipython",
    "version": 3
   },
   "pygments_lexer": "ipython3",
   "nbconvert_exporter": "python",
   "file_extension": ".py"
  },
  "kernelspec": {
   "name": "python3",
   "display_name": "Python 3.7.9 64-bit ('env': venv)"
  },
  "interpreter": {
   "hash": "1fe3a3b43a1d7b4ebd6894c35cd2ca7ddca653effa5e428ff84d5c71b7672dfa"
  }
 },
 "nbformat": 4,
 "nbformat_minor": 2
}