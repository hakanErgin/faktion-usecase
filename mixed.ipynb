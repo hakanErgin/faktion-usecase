{
 "cells": [
  {
   "cell_type": "code",
   "execution_count": 1,
   "id": "4a2657c7-9fe2-404a-bf01-86cd82ffa769",
   "metadata": {},
   "outputs": [],
   "source": [
    "import matplotlib.pyplot as plt\n",
    "import numpy as np\n",
    "import os\n",
    "import PIL\n",
    "import tensorflow as tf\n",
    "\n",
    "from tensorflow import keras\n",
    "from tensorflow.keras import layers\n",
    "from tensorflow.keras.models import Sequential"
   ]
  },
  {
   "cell_type": "code",
   "execution_count": 20,
   "id": "0a05df46-7a43-481b-8ba4-417d1cd3388e",
   "metadata": {},
   "outputs": [],
   "source": [
    "import pathlib\n",
    "# dataset_dir = \"assets/optionB\"\n",
    "dataset_dir = \"assets/optionB_mixed/ready\"\n",
    "data_dir = pathlib.Path(dataset_dir)"
   ]
  },
  {
   "cell_type": "code",
   "execution_count": 21,
   "id": "dc480ddd-5042-46a1-8167-5ed0419c89fa",
   "metadata": {},
   "outputs": [
    {
     "name": "stdout",
     "output_type": "stream",
     "text": [
      "1430\n"
     ]
    }
   ],
   "source": [
    "image_count = len(list(data_dir.glob('*/*.jpg')))\n",
    "print(image_count)"
   ]
  },
  {
   "cell_type": "code",
   "execution_count": 22,
   "id": "661bd397-0650-4dd9-80ee-224c02f226ff",
   "metadata": {},
   "outputs": [],
   "source": [
    "batch_size = 32\n",
    "img_height = 128\n",
    "img_width = 128"
   ]
  },
  {
   "cell_type": "code",
   "execution_count": 23,
   "id": "f983867f-2164-4386-9efb-04c8c2579156",
   "metadata": {},
   "outputs": [
    {
     "name": "stdout",
     "output_type": "stream",
     "text": [
      "Found 1430 files belonging to 2 classes.\n",
      "Using 1144 files for training.\n"
     ]
    }
   ],
   "source": [
    "train_ds = tf.keras.utils.image_dataset_from_directory(\n",
    "  data_dir,\n",
    "  validation_split=0.2,\n",
    "  subset=\"training\",\n",
    "  seed=123,\n",
    "  image_size=(img_height, img_width),\n",
    "  batch_size=batch_size)"
   ]
  },
  {
   "cell_type": "code",
   "execution_count": 24,
   "id": "fc3d2163-1409-47dc-939e-af389bddb448",
   "metadata": {},
   "outputs": [
    {
     "name": "stdout",
     "output_type": "stream",
     "text": [
      "Found 1430 files belonging to 2 classes.\n",
      "Using 286 files for validation.\n"
     ]
    }
   ],
   "source": [
    "val_ds = tf.keras.utils.image_dataset_from_directory(\n",
    "  data_dir,\n",
    "  validation_split=0.2,\n",
    "  subset=\"validation\",\n",
    "  seed=123,\n",
    "  image_size=(img_height, img_width),\n",
    "  batch_size=batch_size)"
   ]
  },
  {
   "cell_type": "code",
   "execution_count": 25,
   "id": "c46e2db8-0441-4599-806f-5297086b8763",
   "metadata": {},
   "outputs": [
    {
     "name": "stdout",
     "output_type": "stream",
     "text": [
      "['Defected', 'Normal']\n"
     ]
    }
   ],
   "source": [
    "class_names = train_ds.class_names\n",
    "print(class_names)"
   ]
  },
  {
   "cell_type": "code",
   "execution_count": 26,
   "id": "5a12d34b-d96d-437e-98ba-1295b2815ccc",
   "metadata": {},
   "outputs": [
    {
     "name": "stdout",
     "output_type": "stream",
     "text": [
      "(32, 128, 128, 3)\n",
      "(32,)\n"
     ]
    }
   ],
   "source": [
    "for image_batch, labels_batch in train_ds:\n",
    "  print(image_batch.shape)\n",
    "  print(labels_batch.shape)\n",
    "  break"
   ]
  },
  {
   "cell_type": "code",
   "execution_count": 27,
   "id": "5a972772-9111-4874-bb1f-5ff29a49bd97",
   "metadata": {},
   "outputs": [],
   "source": [
    "AUTOTUNE = tf.data.AUTOTUNE\n",
    "\n",
    "train_ds = train_ds.cache().shuffle(1000).prefetch(buffer_size=AUTOTUNE)\n",
    "val_ds = val_ds.cache().prefetch(buffer_size=AUTOTUNE)"
   ]
  },
  {
   "cell_type": "code",
   "execution_count": 28,
   "id": "0e5d9f9c-7cc4-45ac-84f1-94fdd1d15bf9",
   "metadata": {},
   "outputs": [],
   "source": [
    "normalization_layer = layers.Rescaling(1./255)"
   ]
  },
  {
   "cell_type": "code",
   "execution_count": 29,
   "id": "12f9ef0e-2a39-4fac-9100-8babf83be868",
   "metadata": {},
   "outputs": [],
   "source": [
    "num_classes = 2\n",
    "\n",
    "model = Sequential([\n",
    "  layers.Rescaling(1./255, input_shape=(img_height, img_width, 3)),\n",
    "  layers.Conv2D(16, 3, padding='same', activation='relu'),\n",
    "  layers.MaxPooling2D(),\n",
    "  layers.Conv2D(32, 3, padding='same', activation='relu'),\n",
    "  layers.MaxPooling2D(),\n",
    "  layers.Conv2D(64, 3, padding='same', activation='relu'),\n",
    "  layers.MaxPooling2D(),\n",
    "  layers.Flatten(),\n",
    "  layers.Dense(128, activation='relu'),\n",
    "  layers.Dense(num_classes)\n",
    "])"
   ]
  },
  {
   "cell_type": "code",
   "execution_count": 30,
   "id": "5860af4d-9090-41cf-aba9-82a5d8dc24fe",
   "metadata": {},
   "outputs": [],
   "source": [
    "model.compile(optimizer='adam',\n",
    "              loss=tf.keras.losses.SparseCategoricalCrossentropy(from_logits=True),\n",
    "              metrics=['accuracy'])"
   ]
  },
  {
   "cell_type": "code",
   "execution_count": 31,
   "id": "0cb382a1-b524-4cf8-babb-faf82bac5600",
   "metadata": {},
   "outputs": [
    {
     "name": "stdout",
     "output_type": "stream",
     "text": [
      "Model: \"sequential_1\"\n",
      "_________________________________________________________________\n",
      "Layer (type)                 Output Shape              Param #   \n",
      "=================================================================\n",
      "rescaling_3 (Rescaling)      (None, 128, 128, 3)       0         \n",
      "_________________________________________________________________\n",
      "conv2d_3 (Conv2D)            (None, 128, 128, 16)      448       \n",
      "_________________________________________________________________\n",
      "max_pooling2d_3 (MaxPooling2 (None, 64, 64, 16)        0         \n",
      "_________________________________________________________________\n",
      "conv2d_4 (Conv2D)            (None, 64, 64, 32)        4640      \n",
      "_________________________________________________________________\n",
      "max_pooling2d_4 (MaxPooling2 (None, 32, 32, 32)        0         \n",
      "_________________________________________________________________\n",
      "conv2d_5 (Conv2D)            (None, 32, 32, 64)        18496     \n",
      "_________________________________________________________________\n",
      "max_pooling2d_5 (MaxPooling2 (None, 16, 16, 64)        0         \n",
      "_________________________________________________________________\n",
      "flatten_1 (Flatten)          (None, 16384)             0         \n",
      "_________________________________________________________________\n",
      "dense_2 (Dense)              (None, 128)               2097280   \n",
      "_________________________________________________________________\n",
      "dense_3 (Dense)              (None, 2)                 258       \n",
      "=================================================================\n",
      "Total params: 2,121,122\n",
      "Trainable params: 2,121,122\n",
      "Non-trainable params: 0\n",
      "_________________________________________________________________\n"
     ]
    }
   ],
   "source": [
    "model.summary()"
   ]
  },
  {
   "cell_type": "code",
   "execution_count": 32,
   "id": "594e1f5a-2e58-4fc6-b6a4-b51e9bf73765",
   "metadata": {},
   "outputs": [
    {
     "name": "stdout",
     "output_type": "stream",
     "text": [
      "Epoch 1/20\n",
      "36/36 [==============================] - 5s 121ms/step - loss: 0.6430 - accuracy: 0.7150 - val_loss: 0.4116 - val_accuracy: 0.8287\n",
      "Epoch 2/20\n",
      "36/36 [==============================] - 4s 115ms/step - loss: 0.4053 - accuracy: 0.8497 - val_loss: 0.2450 - val_accuracy: 0.9161\n",
      "Epoch 3/20\n",
      "36/36 [==============================] - 4s 115ms/step - loss: 0.2499 - accuracy: 0.9240 - val_loss: 0.1166 - val_accuracy: 0.9650\n",
      "Epoch 4/20\n",
      "36/36 [==============================] - 4s 115ms/step - loss: 0.1716 - accuracy: 0.9441 - val_loss: 0.0884 - val_accuracy: 0.9825\n",
      "Epoch 5/20\n",
      "36/36 [==============================] - 4s 119ms/step - loss: 0.1189 - accuracy: 0.9607 - val_loss: 0.0639 - val_accuracy: 0.9755\n",
      "Epoch 6/20\n",
      "36/36 [==============================] - 4s 118ms/step - loss: 0.0767 - accuracy: 0.9755 - val_loss: 0.0368 - val_accuracy: 0.9860\n",
      "Epoch 7/20\n",
      "36/36 [==============================] - 4s 117ms/step - loss: 0.0411 - accuracy: 0.9904 - val_loss: 0.0331 - val_accuracy: 0.9965\n",
      "Epoch 8/20\n",
      "36/36 [==============================] - 4s 116ms/step - loss: 0.0311 - accuracy: 0.9930 - val_loss: 0.0251 - val_accuracy: 0.9825\n",
      "Epoch 9/20\n",
      "36/36 [==============================] - 4s 115ms/step - loss: 0.0159 - accuracy: 0.9983 - val_loss: 0.0033 - val_accuracy: 1.0000\n",
      "Epoch 10/20\n",
      "36/36 [==============================] - 4s 117ms/step - loss: 0.0085 - accuracy: 0.9991 - val_loss: 0.0100 - val_accuracy: 0.9965\n",
      "Epoch 11/20\n",
      "36/36 [==============================] - 4s 114ms/step - loss: 0.0078 - accuracy: 0.9983 - val_loss: 0.0232 - val_accuracy: 1.0000\n",
      "Epoch 12/20\n",
      "36/36 [==============================] - 4s 114ms/step - loss: 0.0051 - accuracy: 0.9991 - val_loss: 0.0018 - val_accuracy: 1.0000\n",
      "Epoch 13/20\n",
      "36/36 [==============================] - 4s 115ms/step - loss: 0.0017 - accuracy: 1.0000 - val_loss: 6.2308e-04 - val_accuracy: 1.0000\n",
      "Epoch 14/20\n",
      "36/36 [==============================] - 4s 115ms/step - loss: 8.1399e-04 - accuracy: 1.0000 - val_loss: 7.8419e-04 - val_accuracy: 1.0000\n",
      "Epoch 15/20\n",
      "36/36 [==============================] - 4s 117ms/step - loss: 6.8597e-04 - accuracy: 1.0000 - val_loss: 5.9036e-04 - val_accuracy: 1.0000\n",
      "Epoch 16/20\n",
      "36/36 [==============================] - 4s 116ms/step - loss: 4.9915e-04 - accuracy: 1.0000 - val_loss: 8.1084e-04 - val_accuracy: 1.0000\n",
      "Epoch 17/20\n",
      "36/36 [==============================] - 4s 117ms/step - loss: 4.7361e-04 - accuracy: 1.0000 - val_loss: 4.2406e-04 - val_accuracy: 1.0000\n",
      "Epoch 18/20\n",
      "36/36 [==============================] - 4s 115ms/step - loss: 3.5854e-04 - accuracy: 1.0000 - val_loss: 3.4984e-04 - val_accuracy: 1.0000\n",
      "Epoch 19/20\n",
      "36/36 [==============================] - 4s 118ms/step - loss: 2.9031e-04 - accuracy: 1.0000 - val_loss: 2.8418e-04 - val_accuracy: 1.0000\n",
      "Epoch 20/20\n",
      "36/36 [==============================] - 4s 119ms/step - loss: 2.3789e-04 - accuracy: 1.0000 - val_loss: 2.6512e-04 - val_accuracy: 1.0000\n"
     ]
    }
   ],
   "source": [
    "# I train with 15 epochs. Takes 4 sec for an epoch => 1 min total time\n",
    "# but five epochs are also fine for testing.\n",
    "epochs=15\n",
    "history = model.fit(\n",
    "  train_ds,\n",
    "  validation_data=val_ds,\n",
    "  epochs=epochs\n",
    ")"
   ]
  },
  {
   "cell_type": "code",
   "execution_count": 33,
   "id": "6fa9d969-df39-43cb-8584-ff420f526423",
   "metadata": {},
   "outputs": [
    {
     "data": {
      "image/png": "[encoded data removed]",
      "text/plain": [
       "<Figure size 576x576 with 2 Axes>"
      ]
     },
     "metadata": {
      "needs_background": "light"
     },
     "output_type": "display_data"
    }
   ],
   "source": [
    "acc = history.history['accuracy']\n",
    "val_acc = history.history['val_accuracy']\n",
    "\n",
    "loss = history.history['loss']\n",
    "val_loss = history.history['val_loss']\n",
    "\n",
    "epochs_range = range(epochs)\n",
    "\n",
    "plt.figure(figsize=(8, 8))\n",
    "plt.subplot(1, 2, 1)\n",
    "plt.plot(epochs_range, acc, label='Training Accuracy')\n",
    "plt.plot(epochs_range, val_acc, label='Validation Accuracy')\n",
    "plt.legend(loc='lower right')\n",
    "plt.title('Training and Validation Accuracy')\n",
    "\n",
    "plt.subplot(1, 2, 2)\n",
    "plt.plot(epochs_range, loss, label='Training Loss')\n",
    "plt.plot(epochs_range, val_loss, label='Validation Loss')\n",
    "plt.legend(loc='upper right')\n",
    "plt.title('Training and Validation Loss')\n",
    "plt.show()"
   ]
  },
  {
   "cell_type": "code",
   "execution_count": 52,
   "id": "2e5dd390-e0b7-40e0-8de2-8d2a890fc26d",
   "metadata": {},
   "outputs": [
    {
     "name": "stdout",
     "output_type": "stream",
     "text": [
      "image 0 most likely belongs to Defected with a 99.98 percent confidence.\n",
      "end of files of file is missing\n",
      "image 2 most likely belongs to Defected with a 99.98 percent confidence.\n",
      "image 3 most likely belongs to Defected with a 99.99 percent confidence.\n",
      "image 4 most likely belongs to Defected with a 100.00 percent confidence.\n",
      "image 5 most likely belongs to Defected with a 100.00 percent confidence.\n",
      "image 6 most likely belongs to Defected with a 100.00 percent confidence.\n",
      "image 7 most likely belongs to Defected with a 100.00 percent confidence.\n",
      "image 8 most likely belongs to Defected with a 100.00 percent confidence.\n",
      "image 9 most likely belongs to Defected with a 100.00 percent confidence.\n",
      "image 10 most likely belongs to Defected with a 100.00 percent confidence.\n",
      "image 11 most likely belongs to Defected with a 100.00 percent confidence.\n",
      "image 12 most likely belongs to Defected with a 100.00 percent confidence.\n",
      "image 13 most likely belongs to Defected with a 99.60 percent confidence.\n",
      "image 14 most likely belongs to Defected with a 99.60 percent confidence.\n",
      "image 15 most likely belongs to Defected with a 100.00 percent confidence.\n",
      "image 16 most likely belongs to Defected with a 100.00 percent confidence.\n",
      "image 17 most likely belongs to Defected with a 99.99 percent confidence.\n",
      "image 18 most likely belongs to Defected with a 100.00 percent confidence.\n",
      "image 19 most likely belongs to Defected with a 99.99 percent confidence.\n",
      "image 20 most likely belongs to Defected with a 99.97 percent confidence.\n",
      "image 21 most likely belongs to Defected with a 99.86 percent confidence.\n",
      "image 22 most likely belongs to Defected with a 99.86 percent confidence.\n",
      "image 23 most likely belongs to Defected with a 99.98 percent confidence.\n",
      "image 24 most likely belongs to Defected with a 99.98 percent confidence.\n",
      "image 25 most likely belongs to Defected with a 99.65 percent confidence.\n",
      "image 26 most likely belongs to Defected with a 99.97 percent confidence.\n",
      "image 27 most likely belongs to Defected with a 99.65 percent confidence.\n",
      "image 28 most likely belongs to Defected with a 100.00 percent confidence.\n",
      "image 29 most likely belongs to Defected with a 99.91 percent confidence.\n",
      "image 30 most likely belongs to Defected with a 99.91 percent confidence.\n",
      "image 31 most likely belongs to Defected with a 100.00 percent confidence.\n",
      "image 32 most likely belongs to Defected with a 100.00 percent confidence.\n",
      "image 33 most likely belongs to Defected with a 99.97 percent confidence.\n",
      "image 34 most likely belongs to Defected with a 100.00 percent confidence.\n",
      "image 35 most likely belongs to Defected with a 99.97 percent confidence.\n"
     ]
    }
   ],
   "source": [
    "\n",
    "\n",
    "\n",
    "#image_name = \"358.jpg\"\n",
    "#image_path = \"assets/optionB/3up_abnormal/\"\n",
    "\n",
    "# images from a custom Validation folder\n",
    "# image_path = \"assets/Validate/\"\n",
    "# image_path = \"assets/optionB/5_abnormal/\"\n",
    "image_path = \"assets/optionB_mixed/ready/Defected/\"\n",
    "\n",
    "# it will stop with an error at the last file\n",
    "for i in range(360):\n",
    "    try:\n",
    "        image_name = f\"Image{i}.jpg\"\n",
    "        # image_name = f\"ab_{i}.jpg\"\n",
    "\n",
    "        img = tf.keras.utils.load_img(\n",
    "        image_path + image_name, target_size=(img_height, img_width)\n",
    "        )\n",
    "        img_array = tf.keras.utils.img_to_array(img)\n",
    "        img_array = tf.expand_dims(img_array, 0) # Create a batch\n",
    "\n",
    "        predictions = model.predict(img_array)\n",
    "        score = tf.nn.softmax(predictions[0])\n",
    "\n",
    "        print(\n",
    "        \"image {} most likely belongs to {} with a {:.2f} percent confidence.\"\n",
    "        .format(i, class_names[np.argmax(score)], 100 * np.max(score)))\n",
    "    \n",
    "    except FileNotFoundError:\n",
    "        print('end of files of file is missing')\n",
    "              \n",
    "    #print(score)\n",
    "    \n",
    "    # if scores for classification are not high, uncomment below to see what classes are confusing for the model\n",
    "    # code below does nothing useful if you have only 2 classes, keep it commented\n",
    "    \n",
    "    # plt.figure(figsize=(8, 8))\n",
    "    # plt.scatter(score*100, class_names)\n",
    "    # plt.title(f'Probability classes for image {i}')\n",
    "    # plt.xlabel('probability, %');"
   ]
  },
  {
   "cell_type": "code",
   "execution_count": null,
   "id": "b804b69a-825a-4e57-88ed-df8fdedc4619",
   "metadata": {},
   "outputs": [],
   "source": []
  },
  {
   "cell_type": "code",
   "execution_count": null,
   "id": "16d29fbb-1670-45a8-b8ae-7abaf2a8a29f",
   "metadata": {},
   "outputs": [],
   "source": []
  }
 ],
 "metadata": {
  "kernelspec": {
   "display_name": "Python 3 (ipykernel)",
   "language": "python",
   "name": "python3"
  },
  "language_info": {
   "codemirror_mode": {
    "name": "ipython",
    "version": 3
   },
   "file_extension": ".py",
   "mimetype": "text/x-python",
   "name": "python",
   "nbconvert_exporter": "python",
   "pygments_lexer": "ipython3",
   "version": "3.9.7"
  }
 },
 "nbformat": 4,
 "nbformat_minor": 5
}
