{
 "cells": [
  {
   "cell_type": "code",
   "execution_count": 1,
   "id": "4a2657c7-9fe2-404a-bf01-86cd82ffa769",
   "metadata": {},
   "outputs": [],
   "source": [
    "import matplotlib.pyplot as plt\n",
    "import numpy as np\n",
    "#import os\n",
    "#import PIL\n",
    "import tensorflow as tf\n",
    "\n",
    "#from tensorflow import keras\n",
    "from tensorflow.keras import layers\n",
    "from tensorflow.keras.models import Sequential"
   ]
  },
  {
   "cell_type": "code",
   "execution_count": 2,
   "id": "0a05df46-7a43-481b-8ba4-417d1cd3388e",
   "metadata": {},
   "outputs": [],
   "source": [
    "import pathlib\n",
    "# dataset_dir = \"assets/optionB\"\n",
    "dataset_dir = \"assets/optionB_mixed/ready\"\n",
    "data_dir = pathlib.Path(dataset_dir)"
   ]
  },
  {
   "cell_type": "code",
   "execution_count": 3,
   "id": "dc480ddd-5042-46a1-8167-5ed0419c89fa",
   "metadata": {},
   "outputs": [
    {
     "name": "stdout",
     "output_type": "stream",
     "text": [
      "7327\n"
     ]
    }
   ],
   "source": [
    "image_count = len(list(data_dir.glob('*/*.jpg')))\n",
    "print(image_count)"
   ]
  },
  {
   "cell_type": "code",
   "execution_count": 4,
   "id": "661bd397-0650-4dd9-80ee-224c02f226ff",
   "metadata": {},
   "outputs": [],
   "source": [
    "batch_size = 32\n",
    "img_height = 128\n",
    "img_width = 128"
   ]
  },
  {
   "cell_type": "code",
   "execution_count": 5,
   "id": "f983867f-2164-4386-9efb-04c8c2579156",
   "metadata": {},
   "outputs": [
    {
     "name": "stdout",
     "output_type": "stream",
     "text": [
      "Found 7327 files belonging to 2 classes.\n",
      "Using 5862 files for training.\n"
     ]
    }
   ],
   "source": [
    "train_ds = tf.keras.utils.image_dataset_from_directory(\n",
    "  data_dir,\n",
    "  validation_split=0.2,\n",
    "  subset=\"training\",\n",
    "  seed=123,\n",
    "  image_size=(img_height, img_width),\n",
    "  batch_size=batch_size)"
   ]
  },
  {
   "cell_type": "code",
   "execution_count": 6,
   "id": "fc3d2163-1409-47dc-939e-af389bddb448",
   "metadata": {},
   "outputs": [
    {
     "name": "stdout",
     "output_type": "stream",
     "text": [
      "Found 7327 files belonging to 2 classes.\n",
      "Using 1465 files for validation.\n"
     ]
    }
   ],
   "source": [
    "val_ds = tf.keras.utils.image_dataset_from_directory(\n",
    "  data_dir,\n",
    "  validation_split=0.2,\n",
    "  subset=\"validation\",\n",
    "  seed=123,\n",
    "  image_size=(img_height, img_width),\n",
    "  batch_size=batch_size)"
   ]
  },
  {
   "cell_type": "code",
   "execution_count": 7,
   "id": "c46e2db8-0441-4599-806f-5297086b8763",
   "metadata": {},
   "outputs": [
    {
     "name": "stdout",
     "output_type": "stream",
     "text": [
      "['Defected', 'Normal']\n"
     ]
    }
   ],
   "source": [
    "class_names = train_ds.class_names\n",
    "print(class_names)"
   ]
  },
  {
   "cell_type": "code",
   "execution_count": 8,
   "id": "5a12d34b-d96d-437e-98ba-1295b2815ccc",
   "metadata": {},
   "outputs": [
    {
     "name": "stdout",
     "output_type": "stream",
     "text": [
      "(32, 128, 128, 3)\n",
      "(32,)\n"
     ]
    }
   ],
   "source": [
    "for image_batch, labels_batch in train_ds:\n",
    "  print(image_batch.shape)\n",
    "  print(labels_batch.shape)\n",
    "  break"
   ]
  },
  {
   "cell_type": "code",
   "execution_count": 9,
   "id": "5a972772-9111-4874-bb1f-5ff29a49bd97",
   "metadata": {},
   "outputs": [],
   "source": [
    "AUTOTUNE = tf.data.AUTOTUNE\n",
    "\n",
    "train_ds = train_ds.cache().shuffle(1000).prefetch(buffer_size=AUTOTUNE)\n",
    "val_ds = val_ds.cache().prefetch(buffer_size=AUTOTUNE)"
   ]
  },
  {
   "cell_type": "code",
   "execution_count": 10,
   "id": "0e5d9f9c-7cc4-45ac-84f1-94fdd1d15bf9",
   "metadata": {},
   "outputs": [],
   "source": [
    "normalization_layer = layers.Rescaling(1./255)"
   ]
  },
  {
   "cell_type": "code",
   "execution_count": 14,
   "id": "12f9ef0e-2a39-4fac-9100-8babf83be868",
   "metadata": {},
   "outputs": [],
   "source": [
    "num_classes = 2\n",
    "\n",
    "model = Sequential([\n",
    "  layers.Rescaling(1./255, input_shape=(img_height, img_width, 3)),\n",
    "  layers.Conv2D(16, 3, padding='same', activation='relu'),\n",
    "  layers.MaxPooling2D(),\n",
    "  layers.Conv2D(32, 3, padding='same', activation='relu'),\n",
    "  layers.MaxPooling2D(),\n",
    "  layers.Conv2D(64, 3, padding='same', activation='relu'),\n",
    "  layers.MaxPooling2D(),\n",
    "  layers.Flatten(),\n",
    "  layers.Dense(128, activation='relu'),\n",
    "  layers.Dense(num_classes)\n",
    "])"
   ]
  },
  {
   "cell_type": "code",
   "execution_count": 15,
   "id": "5860af4d-9090-41cf-aba9-82a5d8dc24fe",
   "metadata": {},
   "outputs": [],
   "source": [
    "model.compile(optimizer='adam',\n",
    "              loss=tf.keras.losses.SparseCategoricalCrossentropy(from_logits=True),\n",
    "              metrics=['accuracy'])"
   ]
  },
  {
   "cell_type": "code",
   "execution_count": 16,
   "id": "0cb382a1-b524-4cf8-babb-faf82bac5600",
   "metadata": {},
   "outputs": [
    {
     "name": "stdout",
     "output_type": "stream",
     "text": [
      "Model: \"sequential_1\"\n",
      "_________________________________________________________________\n",
      "Layer (type)                 Output Shape              Param #   \n",
      "=================================================================\n",
      "rescaling_1 (Rescaling)      (None, 128, 128, 3)       0         \n",
      "_________________________________________________________________\n",
      "conv2d_3 (Conv2D)            (None, 128, 128, 16)      448       \n",
      "_________________________________________________________________\n",
      "max_pooling2d_3 (MaxPooling2 (None, 64, 64, 16)        0         \n",
      "_________________________________________________________________\n",
      "conv2d_4 (Conv2D)            (None, 64, 64, 32)        4640      \n",
      "_________________________________________________________________\n",
      "max_pooling2d_4 (MaxPooling2 (None, 32, 32, 32)        0         \n",
      "_________________________________________________________________\n",
      "conv2d_5 (Conv2D)            (None, 32, 32, 64)        18496     \n",
      "_________________________________________________________________\n",
      "max_pooling2d_5 (MaxPooling2 (None, 16, 16, 64)        0         \n",
      "_________________________________________________________________\n",
      "flatten_1 (Flatten)          (None, 16384)             0         \n",
      "_________________________________________________________________\n",
      "dense_2 (Dense)              (None, 128)               2097280   \n",
      "_________________________________________________________________\n",
      "dense_3 (Dense)              (None, 2)                 258       \n",
      "=================================================================\n",
      "Total params: 2,121,122\n",
      "Trainable params: 2,121,122\n",
      "Non-trainable params: 0\n",
      "_________________________________________________________________\n"
     ]
    }
   ],
   "source": [
    "model.summary()"
   ]
  },
  {
   "cell_type": "code",
   "execution_count": 69,
   "id": "594e1f5a-2e58-4fc6-b6a4-b51e9bf73765",
   "metadata": {},
   "outputs": [
    {
     "name": "stdout",
     "output_type": "stream",
     "text": [
      "184/184 [==============================] - 23s 125ms/step - loss: 5.2322e-05 - accuracy: 1.0000 - val_loss: 0.0200 - val_accuracy: 0.9945\n"
     ]
    }
   ],
   "source": [
    "# I train with 15 epochs. Takes 4 sec for an epoch => 1 min total time\n",
    "# but five epochs are also fine for testing.\n",
    "epochs=1\n",
    "history = model.fit(\n",
    "  train_ds,\n",
    "  validation_data=val_ds,\n",
    "  epochs=epochs\n",
    ")"
   ]
  },
  {
   "cell_type": "code",
   "execution_count": 20,
   "id": "6fa9d969-df39-43cb-8584-ff420f526423",
   "metadata": {},
   "outputs": [
    {
     "data": {
      "image/png": "[encoded data removed]",
      "text/plain": [
       "<Figure size 576x576 with 2 Axes>"
      ]
     },
     "metadata": {
      "needs_background": "light"
     },
     "output_type": "display_data"
    }
   ],
   "source": [
    "acc = history.history['accuracy']\n",
    "val_acc = history.history['val_accuracy']\n",
    "\n",
    "loss = history.history['loss']\n",
    "val_loss = history.history['val_loss']\n",
    "\n",
    "epochs_range = range(epochs)\n",
    "\n",
    "plt.figure(figsize=(8, 8))\n",
    "plt.subplot(1, 2, 1)\n",
    "plt.plot(epochs_range, acc, label='Training Accuracy')\n",
    "plt.plot(epochs_range, val_acc, label='Validation Accuracy')\n",
    "plt.legend(loc='lower right')\n",
    "plt.title('Training and Validation Accuracy')\n",
    "\n",
    "plt.subplot(1, 2, 2)\n",
    "plt.plot(epochs_range, loss, label='Training Loss')\n",
    "plt.plot(epochs_range, val_loss, label='Validation Loss')\n",
    "plt.legend(loc='upper right')\n",
    "plt.title('Training and Validation Loss')\n",
    "plt.show()"
   ]
  },
  {
   "cell_type": "code",
   "execution_count": 74,
   "id": "2e5dd390-e0b7-40e0-8de2-8d2a890fc26d",
   "metadata": {},
   "outputs": [
    {
     "name": "stdout",
     "output_type": "stream",
     "text": [
      "ab_0.jpg is outstanding\n",
      "image 0 most likely belongs to Normal with a 100.00 percent confidence.\n",
      "image 1 most likely belongs to Defected with a 100.00 percent confidence.\n",
      "image 2 most likely belongs to Defected with a 98.86 percent confidence.\n",
      "image 3 most likely belongs to Defected with a 100.00 percent confidence.\n",
      "ab_4.jpg is outstanding\n",
      "image 4 most likely belongs to Normal with a 97.91 percent confidence.\n",
      "image 5 most likely belongs to Defected with a 100.00 percent confidence.\n",
      "image 6 most likely belongs to Defected with a 100.00 percent confidence.\n",
      "ab_7.jpg is outstanding\n",
      "image 7 most likely belongs to Normal with a 68.55 percent confidence.\n",
      "image 8 most likely belongs to Defected with a 100.00 percent confidence.\n",
      "image 9 most likely belongs to Defected with a 100.00 percent confidence.\n",
      "finished\n"
     ]
    }
   ],
   "source": [
    "\n",
    "\n",
    "\n",
    "#image_name = \"358.jpg\"\n",
    "#image_path = \"assets/optionB/3up_abnormal/\"\n",
    "\n",
    "# images from a custom Validation folder\n",
    "image_path = \"assets/Validate/\"\n",
    "# image_path = \"assets/optionB/5_abnormal/\"\n",
    "# image_path = \"assets/optionB_mixed/ready/Defected/\"\n",
    "outstanding = []\n",
    "# it will stop with an error at the last file\n",
    "# for i in range(3019,3353):\n",
    "for i in range(10):\n",
    "    try:\n",
    "        # image_name = f\"Image{i}.jpg\"\n",
    "        image_name = f\"ab_{i}.jpg\"\n",
    "        # image_name = f\"friday{i}.jpg\"\n",
    "\n",
    "        img = tf.keras.utils.load_img(\n",
    "        image_path + image_name, target_size=(img_height, img_width)\n",
    "        )\n",
    "        img_array = tf.keras.utils.img_to_array(img)\n",
    "        img_array = tf.expand_dims(img_array, 0) # Create a batch\n",
    "\n",
    "        predictions = model.predict(img_array)\n",
    "        score = tf.nn.softmax(predictions[0])\n",
    "        ###\n",
    "        if class_names[np.argmax(score)] == 'Normal':\n",
    "            print(f'{image_name} is outstanding')\n",
    "            outstanding.append(image_name)\n",
    "        ###\n",
    "        print(\n",
    "        \"image {} most likely belongs to {} with a {:.2f} percent confidence.\"\n",
    "        .format(i, class_names[np.argmax(score)], 100 * np.max(score)))\n",
    "    \n",
    "    except FileNotFoundError:\n",
    "        print('end of files of file is missing')\n",
    "print('finished')\n",
    "    #print(score)\n",
    "    \n",
    "    # if scores for classification are not high, uncomment below to see what classes are confusing for the model\n",
    "    # code below does nothing useful if you have only 2 classes, keep it commented\n",
    "    \n",
    "    # plt.figure(figsize=(8, 8))\n",
    "    # plt.scatter(score*100, class_names)\n",
    "    # plt.title(f'Probability classes for image {i}')\n",
    "    # plt.xlabel('probability, %');"
   ]
  },
  {
   "cell_type": "code",
   "execution_count": 71,
   "id": "b804b69a-825a-4e57-88ed-df8fdedc4619",
   "metadata": {},
   "outputs": [
    {
     "data": {
      "text/plain": [
       "['friday3020.jpg',\n",
       " 'friday3058.jpg',\n",
       " 'friday3069.jpg',\n",
       " 'friday3147.jpg',\n",
       " 'friday3180.jpg',\n",
       " 'friday3183.jpg']"
      ]
     },
     "execution_count": 71,
     "metadata": {},
     "output_type": "execute_result"
    }
   ],
   "source": [
    "outstanding"
   ]
  },
  {
   "cell_type": "code",
   "execution_count": 67,
   "id": "16d29fbb-1670-45a8-b8ae-7abaf2a8a29f",
   "metadata": {},
   "outputs": [
    {
     "name": "stdout",
     "output_type": "stream",
     "text": [
      "friday3020.jpg is outstanding\n",
      "friday3069.jpg is outstanding\n",
      "friday3147.jpg is outstanding\n",
      "friday3180.jpg is outstanding\n",
      "friday3183.jpg is outstanding\n"
     ]
    },
    {
     "data": {
      "image/png": "[encoded data removed]",
      "text/plain": [
       "<Figure size 576x576 with 1 Axes>"
      ]
     },
     "metadata": {
      "needs_background": "light"
     },
     "output_type": "display_data"
    },
    {
     "data": {
      "image/png": "[encoded data removed]",
      "text/plain": [
       "<Figure size 576x576 with 1 Axes>"
      ]
     },
     "metadata": {
      "needs_background": "light"
     },
     "output_type": "display_data"
    },
    {
     "data": {
      "image/png": "[encoded data removed]",
      "text/plain": [
       "<Figure size 576x576 with 1 Axes>"
      ]
     },
     "metadata": {
      "needs_background": "light"
     },
     "output_type": "display_data"
    },
    {
     "data": {
      "image/png": "[encoded data removed]",
      "text/plain": [
       "<Figure size 576x576 with 1 Axes>"
      ]
     },
     "metadata": {
      "needs_background": "light"
     },
     "output_type": "display_data"
    },
    {
     "data": {
      "image/png": "[encoded data removed]",
      "text/plain": [
       "<Figure size 576x576 with 1 Axes>"
      ]
     },
     "metadata": {
      "needs_background": "light"
     },
     "output_type": "display_data"
    }
   ],
   "source": [
    "image_path = \"assets/optionB_mixed/ready/Defected/\"\n",
    "for i in outstanding:\n",
    "        image_name = i\n",
    "\n",
    "        img = tf.keras.utils.load_img(\n",
    "        image_path + image_name, target_size=(img_height, img_width)\n",
    "        )\n",
    "        img_array = tf.keras.utils.img_to_array(img)\n",
    "        img_array = tf.expand_dims(img_array, 0) # Create a batch\n",
    "\n",
    "        predictions = model.predict(img_array)\n",
    "        score = tf.nn.softmax(predictions[0])\n",
    "        ###\n",
    "        if class_names[np.argmax(score)] == 'Normal':\n",
    "            print(f'{image_name} is outstanding')\n",
    "            # outstanding.append(image_name)\n",
    "        ###\n",
    "        # print(\n",
    "        # \"image {} most likely belongs to {} with a {:.2f} percent confidence.\"\n",
    "        # .format(i, class_names[np.argmax(score)], 100 * np.max(score)))\n",
    "    \n",
    "        plt.figure(figsize=(8, 8))\n",
    "        plt.scatter(score*100, class_names)\n",
    "        plt.title(f'Probability classes for image {i}')\n",
    "        plt.xlabel('probability, %');"
   ]
  },
  {
   "cell_type": "code",
   "execution_count": null,
   "id": "65241e94-7e5b-4992-88a5-0b5724386bd0",
   "metadata": {},
   "outputs": [],
   "source": []
  }
 ],
 "metadata": {
  "kernelspec": {
   "display_name": "Python 3 (ipykernel)",
   "language": "python",
   "name": "python3"
  },
  "language_info": {
   "codemirror_mode": {
    "name": "ipython",
    "version": 3
   },
   "file_extension": ".py",
   "mimetype": "text/x-python",
   "name": "python",
   "nbconvert_exporter": "python",
   "pygments_lexer": "ipython3",
   "version": "3.9.7"
  }
 },
 "nbformat": 4,
 "nbformat_minor": 5
}
